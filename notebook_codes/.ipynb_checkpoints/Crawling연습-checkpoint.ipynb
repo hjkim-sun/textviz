{
 "cells": [
  {
   "cell_type": "code",
   "execution_count": 1,
   "id": "c10e9dc2",
   "metadata": {},
   "outputs": [
    {
     "name": "stderr",
     "output_type": "stream",
     "text": [
      "[WDM] - Downloading: 100%|██████████████████████████████████████████████████████████████████████████████████████████████████████████████████████████████████| 6.30M/6.30M [00:02<00:00, 2.35MB/s]\n"
     ]
    },
    {
     "name": "stdout",
     "output_type": "stream",
     "text": [
      "<class 'selenium.webdriver.chrome.webdriver.WebDriver'>\n"
     ]
    }
   ],
   "source": [
    "from selenium import webdriver\n",
    "from selenium.webdriver.chrome.service import Service\n",
    "from webdriver_manager.chrome import ChromeDriverManager\n",
    "from selenium.webdriver.common.by import By\n",
    "\n",
    "'''\n",
    "크롬 브라우저의 버전에 맞춰 알아서 드라이버를 다운받는다.\n",
    "driver 변수는 Selenium의 WebDriver 클래스 객체로써\n",
    "크롬 브라우저 창 자체를 의미한다.\n",
    "driver 변수에는 창 최대화, 최소화, 창 닫기 등의 메서드도 존재한다.\n",
    "'''\n",
    "driver = webdriver.Chrome(service=Service(ChromeDriverManager().install()))\n",
    "url = 'https://naver.com'\n",
    "\n",
    "print(type(driver))\n",
    "driver.get(url)"
   ]
  },
  {
   "cell_type": "code",
   "execution_count": 135,
   "id": "8cd40430",
   "metadata": {},
   "outputs": [
    {
     "name": "stdout",
     "output_type": "stream",
     "text": [
      "a\n"
     ]
    }
   ],
   "source": [
    "'''\n",
    "네이버 증권을 클릭하려면 어떻게 해야할까? \n",
    "1. 네이버 증권 아이콘은 어떤 Element에 위치하고 있는지 파악한다.\n",
    "2. 해당 Element를 찾으려면 어떤 Tag 또는 속성을 이용할 수 있는지 확인한다. \n",
    "\n",
    "https://naver.com 에서 지도 아이콘에 대한 element를 찾아보자 \n",
    "'''\n",
    "\n",
    "\n",
    "element = driver.find_element(by=By.LINK_TEXT , value='지도')\n",
    "print(element.tag_name)"
   ]
  },
  {
   "cell_type": "code",
   "execution_count": 136,
   "id": "2e5113ac",
   "metadata": {},
   "outputs": [],
   "source": [
    "'''\n",
    "클릭은 어떻게 할까? \n",
    "driver.find_element에 의해 리턴된 element 객체는 click() 메서드를 가지고 있음.\n",
    "'''\n",
    "\n",
    "\n",
    "element.click()\n"
   ]
  },
  {
   "cell_type": "code",
   "execution_count": 137,
   "id": "126adcf9",
   "metadata": {},
   "outputs": [
    {
     "name": "stdout",
     "output_type": "stream",
     "text": [
      "네이버 지도\n"
     ]
    }
   ],
   "source": [
    "'''\n",
    "네이버 지도 창이 새 탭에서 열린 경우 driver의 활성 탭을 새 탭으로 이동시켜 줘야 한다.\n",
    "파이썬 리스트에서 [-1]는 가장 오른쪽 끝 요소를 의미 \n",
    "driver.title 은 현재 창의 제목을 보여준다.\n",
    "'''\n",
    "driver.switch_to.window(driver.window_handles[-1])\n",
    "print(driver.title)\n",
    "\n"
   ]
  },
  {
   "cell_type": "code",
   "execution_count": 138,
   "id": "1e819710",
   "metadata": {},
   "outputs": [],
   "source": [
    "'''\n",
    "검색어 입력은 어떻게 할까? \n",
    "element 객체는 send_keys() 메서드를 통해 타이핑 가능\n",
    "CSS_SELECTOR는 tag, class, id 등 여러 복합 요소를 한꺼번에 지정해 찾을 수 있는 막강한 클래스\n",
    "클래스가 여러 개 지정되어 있는 Element는 CSS_SELECTOR를 통해 찾을 수 있다. \n",
    "'''\n",
    "\n",
    "search_element = driver.find_element(by=By.CSS_SELECTOR, value='.input_search.ng-valid')\n",
    "\n",
    "search_element.send_keys('강릉맛집')"
   ]
  },
  {
   "cell_type": "code",
   "execution_count": 139,
   "id": "8989925d",
   "metadata": {},
   "outputs": [],
   "source": [
    "# 엔터키는 어떻게 칠까? \n",
    "\n",
    "from selenium.webdriver.common.keys import Keys\n",
    "\n",
    "search_element.send_keys(Keys.ENTER)"
   ]
  },
  {
   "cell_type": "code",
   "execution_count": 146,
   "id": "ba5de9b0",
   "metadata": {},
   "outputs": [
    {
     "ename": "NoSuchFrameException",
     "evalue": "Message: entryIframe\n",
     "output_type": "error",
     "traceback": [
      "\u001b[1;31m---------------------------------------------------------------------------\u001b[0m",
      "\u001b[1;31mNoSuchElementException\u001b[0m                    Traceback (most recent call last)",
      "File \u001b[1;32m~\\PycharmProjects\\NaverCrawling\\venv3.9\\lib\\site-packages\\selenium\\webdriver\\remote\\switch_to.py:85\u001b[0m, in \u001b[0;36mSwitchTo.frame\u001b[1;34m(self, frame_reference)\u001b[0m\n\u001b[0;32m     84\u001b[0m \u001b[38;5;28;01mtry\u001b[39;00m:\n\u001b[1;32m---> 85\u001b[0m     frame_reference \u001b[38;5;241m=\u001b[39m \u001b[38;5;28;43mself\u001b[39;49m\u001b[38;5;241;43m.\u001b[39;49m\u001b[43m_driver\u001b[49m\u001b[38;5;241;43m.\u001b[39;49m\u001b[43mfind_element\u001b[49m\u001b[43m(\u001b[49m\u001b[43mBy\u001b[49m\u001b[38;5;241;43m.\u001b[39;49m\u001b[43mID\u001b[49m\u001b[43m,\u001b[49m\u001b[43m \u001b[49m\u001b[43mframe_reference\u001b[49m\u001b[43m)\u001b[49m\n\u001b[0;32m     86\u001b[0m \u001b[38;5;28;01mexcept\u001b[39;00m NoSuchElementException:\n",
      "File \u001b[1;32m~\\PycharmProjects\\NaverCrawling\\venv3.9\\lib\\site-packages\\selenium\\webdriver\\remote\\webdriver.py:740\u001b[0m, in \u001b[0;36mWebDriver.find_element\u001b[1;34m(self, by, value)\u001b[0m\n\u001b[0;32m    738\u001b[0m     value \u001b[38;5;241m=\u001b[39m \u001b[38;5;124mf\u001b[39m\u001b[38;5;124m'\u001b[39m\u001b[38;5;124m[name=\u001b[39m\u001b[38;5;124m\"\u001b[39m\u001b[38;5;132;01m{\u001b[39;00mvalue\u001b[38;5;132;01m}\u001b[39;00m\u001b[38;5;124m\"\u001b[39m\u001b[38;5;124m]\u001b[39m\u001b[38;5;124m'\u001b[39m\n\u001b[1;32m--> 740\u001b[0m \u001b[38;5;28;01mreturn\u001b[39;00m \u001b[38;5;28;43mself\u001b[39;49m\u001b[38;5;241;43m.\u001b[39;49m\u001b[43mexecute\u001b[49m\u001b[43m(\u001b[49m\u001b[43mCommand\u001b[49m\u001b[38;5;241;43m.\u001b[39;49m\u001b[43mFIND_ELEMENT\u001b[49m\u001b[43m,\u001b[49m\u001b[43m \u001b[49m\u001b[43m{\u001b[49m\u001b[38;5;124;43m\"\u001b[39;49m\u001b[38;5;124;43musing\u001b[39;49m\u001b[38;5;124;43m\"\u001b[39;49m\u001b[43m:\u001b[49m\u001b[43m \u001b[49m\u001b[43mby\u001b[49m\u001b[43m,\u001b[49m\u001b[43m \u001b[49m\u001b[38;5;124;43m\"\u001b[39;49m\u001b[38;5;124;43mvalue\u001b[39;49m\u001b[38;5;124;43m\"\u001b[39;49m\u001b[43m:\u001b[49m\u001b[43m \u001b[49m\u001b[43mvalue\u001b[49m\u001b[43m}\u001b[49m\u001b[43m)\u001b[49m[\u001b[38;5;124m\"\u001b[39m\u001b[38;5;124mvalue\u001b[39m\u001b[38;5;124m\"\u001b[39m]\n",
      "File \u001b[1;32m~\\PycharmProjects\\NaverCrawling\\venv3.9\\lib\\site-packages\\selenium\\webdriver\\remote\\webdriver.py:346\u001b[0m, in \u001b[0;36mWebDriver.execute\u001b[1;34m(self, driver_command, params)\u001b[0m\n\u001b[0;32m    345\u001b[0m \u001b[38;5;28;01mif\u001b[39;00m response:\n\u001b[1;32m--> 346\u001b[0m     \u001b[38;5;28;43mself\u001b[39;49m\u001b[38;5;241;43m.\u001b[39;49m\u001b[43merror_handler\u001b[49m\u001b[38;5;241;43m.\u001b[39;49m\u001b[43mcheck_response\u001b[49m\u001b[43m(\u001b[49m\u001b[43mresponse\u001b[49m\u001b[43m)\u001b[49m\n\u001b[0;32m    347\u001b[0m     response[\u001b[38;5;124m\"\u001b[39m\u001b[38;5;124mvalue\u001b[39m\u001b[38;5;124m\"\u001b[39m] \u001b[38;5;241m=\u001b[39m \u001b[38;5;28mself\u001b[39m\u001b[38;5;241m.\u001b[39m_unwrap_value(response\u001b[38;5;241m.\u001b[39mget(\u001b[38;5;124m\"\u001b[39m\u001b[38;5;124mvalue\u001b[39m\u001b[38;5;124m\"\u001b[39m, \u001b[38;5;28;01mNone\u001b[39;00m))\n",
      "File \u001b[1;32m~\\PycharmProjects\\NaverCrawling\\venv3.9\\lib\\site-packages\\selenium\\webdriver\\remote\\errorhandler.py:245\u001b[0m, in \u001b[0;36mErrorHandler.check_response\u001b[1;34m(self, response)\u001b[0m\n\u001b[0;32m    244\u001b[0m     \u001b[38;5;28;01mraise\u001b[39;00m exception_class(message, screen, stacktrace, alert_text)  \u001b[38;5;66;03m# type: ignore[call-arg]  # mypy is not smart enough here\u001b[39;00m\n\u001b[1;32m--> 245\u001b[0m \u001b[38;5;28;01mraise\u001b[39;00m exception_class(message, screen, stacktrace)\n",
      "\u001b[1;31mNoSuchElementException\u001b[0m: Message: no such element: Unable to locate element: {\"method\":\"css selector\",\"selector\":\"[id=\"entryIframe\"]\"}\n  (Session info: chrome=114.0.5735.199); For documentation on this error, please visit: https://www.selenium.dev/documentation/webdriver/troubleshooting/errors#no-such-element-exception\nStacktrace:\nBacktrace:\n\tGetHandleVerifier [0x006AA813+48355]\n\t(No symbol) [0x0063C4B1]\n\t(No symbol) [0x00545358]\n\t(No symbol) [0x005709A5]\n\t(No symbol) [0x00570B3B]\n\t(No symbol) [0x0059E232]\n\t(No symbol) [0x0058A784]\n\t(No symbol) [0x0059C922]\n\t(No symbol) [0x0058A536]\n\t(No symbol) [0x005682DC]\n\t(No symbol) [0x005693DD]\n\tGetHandleVerifier [0x0090AABD+2539405]\n\tGetHandleVerifier [0x0094A78F+2800735]\n\tGetHandleVerifier [0x0094456C+2775612]\n\tGetHandleVerifier [0x007351E0+616112]\n\t(No symbol) [0x00645F8C]\n\t(No symbol) [0x00642328]\n\t(No symbol) [0x0064240B]\n\t(No symbol) [0x00634FF7]\n\tBaseThreadInitThunk [0x75F77D59+25]\n\tRtlInitializeExceptionChain [0x770BB74B+107]\n\tRtlClearBits [0x770BB6CF+191]\n",
      "\nDuring handling of the above exception, another exception occurred:\n",
      "\u001b[1;31mNoSuchElementException\u001b[0m                    Traceback (most recent call last)",
      "File \u001b[1;32m~\\PycharmProjects\\NaverCrawling\\venv3.9\\lib\\site-packages\\selenium\\webdriver\\remote\\switch_to.py:88\u001b[0m, in \u001b[0;36mSwitchTo.frame\u001b[1;34m(self, frame_reference)\u001b[0m\n\u001b[0;32m     87\u001b[0m \u001b[38;5;28;01mtry\u001b[39;00m:\n\u001b[1;32m---> 88\u001b[0m     frame_reference \u001b[38;5;241m=\u001b[39m \u001b[38;5;28;43mself\u001b[39;49m\u001b[38;5;241;43m.\u001b[39;49m\u001b[43m_driver\u001b[49m\u001b[38;5;241;43m.\u001b[39;49m\u001b[43mfind_element\u001b[49m\u001b[43m(\u001b[49m\u001b[43mBy\u001b[49m\u001b[38;5;241;43m.\u001b[39;49m\u001b[43mNAME\u001b[49m\u001b[43m,\u001b[49m\u001b[43m \u001b[49m\u001b[43mframe_reference\u001b[49m\u001b[43m)\u001b[49m\n\u001b[0;32m     89\u001b[0m \u001b[38;5;28;01mexcept\u001b[39;00m NoSuchElementException:\n",
      "File \u001b[1;32m~\\PycharmProjects\\NaverCrawling\\venv3.9\\lib\\site-packages\\selenium\\webdriver\\remote\\webdriver.py:740\u001b[0m, in \u001b[0;36mWebDriver.find_element\u001b[1;34m(self, by, value)\u001b[0m\n\u001b[0;32m    738\u001b[0m     value \u001b[38;5;241m=\u001b[39m \u001b[38;5;124mf\u001b[39m\u001b[38;5;124m'\u001b[39m\u001b[38;5;124m[name=\u001b[39m\u001b[38;5;124m\"\u001b[39m\u001b[38;5;132;01m{\u001b[39;00mvalue\u001b[38;5;132;01m}\u001b[39;00m\u001b[38;5;124m\"\u001b[39m\u001b[38;5;124m]\u001b[39m\u001b[38;5;124m'\u001b[39m\n\u001b[1;32m--> 740\u001b[0m \u001b[38;5;28;01mreturn\u001b[39;00m \u001b[38;5;28;43mself\u001b[39;49m\u001b[38;5;241;43m.\u001b[39;49m\u001b[43mexecute\u001b[49m\u001b[43m(\u001b[49m\u001b[43mCommand\u001b[49m\u001b[38;5;241;43m.\u001b[39;49m\u001b[43mFIND_ELEMENT\u001b[49m\u001b[43m,\u001b[49m\u001b[43m \u001b[49m\u001b[43m{\u001b[49m\u001b[38;5;124;43m\"\u001b[39;49m\u001b[38;5;124;43musing\u001b[39;49m\u001b[38;5;124;43m\"\u001b[39;49m\u001b[43m:\u001b[49m\u001b[43m \u001b[49m\u001b[43mby\u001b[49m\u001b[43m,\u001b[49m\u001b[43m \u001b[49m\u001b[38;5;124;43m\"\u001b[39;49m\u001b[38;5;124;43mvalue\u001b[39;49m\u001b[38;5;124;43m\"\u001b[39;49m\u001b[43m:\u001b[49m\u001b[43m \u001b[49m\u001b[43mvalue\u001b[49m\u001b[43m}\u001b[49m\u001b[43m)\u001b[49m[\u001b[38;5;124m\"\u001b[39m\u001b[38;5;124mvalue\u001b[39m\u001b[38;5;124m\"\u001b[39m]\n",
      "File \u001b[1;32m~\\PycharmProjects\\NaverCrawling\\venv3.9\\lib\\site-packages\\selenium\\webdriver\\remote\\webdriver.py:346\u001b[0m, in \u001b[0;36mWebDriver.execute\u001b[1;34m(self, driver_command, params)\u001b[0m\n\u001b[0;32m    345\u001b[0m \u001b[38;5;28;01mif\u001b[39;00m response:\n\u001b[1;32m--> 346\u001b[0m     \u001b[38;5;28;43mself\u001b[39;49m\u001b[38;5;241;43m.\u001b[39;49m\u001b[43merror_handler\u001b[49m\u001b[38;5;241;43m.\u001b[39;49m\u001b[43mcheck_response\u001b[49m\u001b[43m(\u001b[49m\u001b[43mresponse\u001b[49m\u001b[43m)\u001b[49m\n\u001b[0;32m    347\u001b[0m     response[\u001b[38;5;124m\"\u001b[39m\u001b[38;5;124mvalue\u001b[39m\u001b[38;5;124m\"\u001b[39m] \u001b[38;5;241m=\u001b[39m \u001b[38;5;28mself\u001b[39m\u001b[38;5;241m.\u001b[39m_unwrap_value(response\u001b[38;5;241m.\u001b[39mget(\u001b[38;5;124m\"\u001b[39m\u001b[38;5;124mvalue\u001b[39m\u001b[38;5;124m\"\u001b[39m, \u001b[38;5;28;01mNone\u001b[39;00m))\n",
      "File \u001b[1;32m~\\PycharmProjects\\NaverCrawling\\venv3.9\\lib\\site-packages\\selenium\\webdriver\\remote\\errorhandler.py:245\u001b[0m, in \u001b[0;36mErrorHandler.check_response\u001b[1;34m(self, response)\u001b[0m\n\u001b[0;32m    244\u001b[0m     \u001b[38;5;28;01mraise\u001b[39;00m exception_class(message, screen, stacktrace, alert_text)  \u001b[38;5;66;03m# type: ignore[call-arg]  # mypy is not smart enough here\u001b[39;00m\n\u001b[1;32m--> 245\u001b[0m \u001b[38;5;28;01mraise\u001b[39;00m exception_class(message, screen, stacktrace)\n",
      "\u001b[1;31mNoSuchElementException\u001b[0m: Message: no such element: Unable to locate element: {\"method\":\"css selector\",\"selector\":\"[name=\"entryIframe\"]\"}\n  (Session info: chrome=114.0.5735.199); For documentation on this error, please visit: https://www.selenium.dev/documentation/webdriver/troubleshooting/errors#no-such-element-exception\nStacktrace:\nBacktrace:\n\tGetHandleVerifier [0x006AA813+48355]\n\t(No symbol) [0x0063C4B1]\n\t(No symbol) [0x00545358]\n\t(No symbol) [0x005709A5]\n\t(No symbol) [0x00570B3B]\n\t(No symbol) [0x0059E232]\n\t(No symbol) [0x0058A784]\n\t(No symbol) [0x0059C922]\n\t(No symbol) [0x0058A536]\n\t(No symbol) [0x005682DC]\n\t(No symbol) [0x005693DD]\n\tGetHandleVerifier [0x0090AABD+2539405]\n\tGetHandleVerifier [0x0094A78F+2800735]\n\tGetHandleVerifier [0x0094456C+2775612]\n\tGetHandleVerifier [0x007351E0+616112]\n\t(No symbol) [0x00645F8C]\n\t(No symbol) [0x00642328]\n\t(No symbol) [0x0064240B]\n\t(No symbol) [0x00634FF7]\n\tBaseThreadInitThunk [0x75F77D59+25]\n\tRtlInitializeExceptionChain [0x770BB74B+107]\n\tRtlClearBits [0x770BB6CF+191]\n",
      "\nDuring handling of the above exception, another exception occurred:\n",
      "\u001b[1;31mNoSuchFrameException\u001b[0m                      Traceback (most recent call last)",
      "Cell \u001b[1;32mIn[146], line 15\u001b[0m\n\u001b[0;32m     13\u001b[0m a_tag_element\u001b[38;5;241m.\u001b[39mclick()\n\u001b[0;32m     14\u001b[0m time\u001b[38;5;241m.\u001b[39msleep(\u001b[38;5;241m2\u001b[39m)\n\u001b[1;32m---> 15\u001b[0m \u001b[43mdriver\u001b[49m\u001b[38;5;241;43m.\u001b[39;49m\u001b[43mswitch_to\u001b[49m\u001b[38;5;241;43m.\u001b[39;49m\u001b[43mframe\u001b[49m\u001b[43m(\u001b[49m\u001b[38;5;124;43m'\u001b[39;49m\u001b[38;5;124;43mentryIframe\u001b[39;49m\u001b[38;5;124;43m'\u001b[39;49m\u001b[43m)\u001b[49m\n\u001b[0;32m     16\u001b[0m driver\u001b[38;5;241m.\u001b[39mfind_element(by\u001b[38;5;241m=\u001b[39mBy\u001b[38;5;241m.\u001b[39mLINK_TEXT, value\u001b[38;5;241m=\u001b[39m\u001b[38;5;124m'\u001b[39m\u001b[38;5;124m방문자리뷰\u001b[39m\u001b[38;5;124m'\u001b[39m)\u001b[38;5;241m.\u001b[39mclick()\n\u001b[0;32m     17\u001b[0m \u001b[38;5;28;01mbreak\u001b[39;00m\n",
      "File \u001b[1;32m~\\PycharmProjects\\NaverCrawling\\venv3.9\\lib\\site-packages\\selenium\\webdriver\\remote\\switch_to.py:90\u001b[0m, in \u001b[0;36mSwitchTo.frame\u001b[1;34m(self, frame_reference)\u001b[0m\n\u001b[0;32m     88\u001b[0m             frame_reference \u001b[38;5;241m=\u001b[39m \u001b[38;5;28mself\u001b[39m\u001b[38;5;241m.\u001b[39m_driver\u001b[38;5;241m.\u001b[39mfind_element(By\u001b[38;5;241m.\u001b[39mNAME, frame_reference)\n\u001b[0;32m     89\u001b[0m         \u001b[38;5;28;01mexcept\u001b[39;00m NoSuchElementException:\n\u001b[1;32m---> 90\u001b[0m             \u001b[38;5;28;01mraise\u001b[39;00m NoSuchFrameException(frame_reference)\n\u001b[0;32m     92\u001b[0m \u001b[38;5;28mself\u001b[39m\u001b[38;5;241m.\u001b[39m_driver\u001b[38;5;241m.\u001b[39mexecute(Command\u001b[38;5;241m.\u001b[39mSWITCH_TO_FRAME, {\u001b[38;5;124m\"\u001b[39m\u001b[38;5;124mid\u001b[39m\u001b[38;5;124m\"\u001b[39m: frame_reference})\n",
      "\u001b[1;31mNoSuchFrameException\u001b[0m: Message: entryIframe\n"
     ]
    }
   ],
   "source": [
    "'''\n",
    "검색 결과정보는 iframe 태그로 감싸여있는 것을 볼 수 있다. \n",
    "iframe은 HTML 문서 안에 다른 HTML 문서를 끼여넣은 것으로 이해할 수 있다. \n",
    "이때 iframe 태그 안으로 이동하기 위해  \n",
    "driver.switch_to.frame('iframe의id') 명령으로 바꿔줘야 한다. \n",
    "'''\n",
    "#driver.switch_to.frame('searchIframe')\n",
    "import time\n",
    "\n",
    "a_tag_element_lst = driver.find_elements(by=By.CLASS_NAME, value='tzwk0')\n",
    "for a_tag_element in a_tag_element_lst:\n",
    "    # 가게를 클릭하고 방문자 리뷰 탭을 클릭해보자 \n",
    "    a_tag_element.click()\n",
    "    time.sleep(2)\n",
    "    driver.switch_to.frame('entryIframe')\n",
    "    driver.find_element(by=By.LINK_TEXT, value='방문자리뷰').click()\n",
    "    break"
   ]
  },
  {
   "cell_type": "code",
   "execution_count": 75,
   "id": "0c86605c",
   "metadata": {},
   "outputs": [],
   "source": [
    "url = f\"https://m.map.naver.com/search2/search.naver?query=강릉맛집&sm=hty&style=v5\"\n",
    "driver.get(url)"
   ]
  }
 ],
 "metadata": {
  "kernelspec": {
   "display_name": "Python 3 (ipykernel)",
   "language": "python",
   "name": "python3"
  },
  "language_info": {
   "codemirror_mode": {
    "name": "ipython",
    "version": 3
   },
   "file_extension": ".py",
   "mimetype": "text/x-python",
   "name": "python",
   "nbconvert_exporter": "python",
   "pygments_lexer": "ipython3",
   "version": "3.9.13"
  },
  "toc": {
   "base_numbering": 1,
   "nav_menu": {},
   "number_sections": true,
   "sideBar": true,
   "skip_h1_title": false,
   "title_cell": "Table of Contents",
   "title_sidebar": "Contents",
   "toc_cell": false,
   "toc_position": {},
   "toc_section_display": true,
   "toc_window_display": false
  }
 },
 "nbformat": 4,
 "nbformat_minor": 5
}
