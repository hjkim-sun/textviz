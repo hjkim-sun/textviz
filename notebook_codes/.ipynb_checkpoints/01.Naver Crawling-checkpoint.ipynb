{
 "cells": [
  {
   "cell_type": "markdown",
   "id": "eda0fdec",
   "metadata": {},
   "source": [
    "# 크롤링하기\n",
    "## Driver 객체 만들기 \n",
    "- DhromeDriverManager()에 의해 알맞는 크롬 브라우저 드라이버를 알아서 다운받는다. \n",
    "- driver 객체는 Selenium 패키지 내 Webdriver 클래스 객체로써 크롬 브라우저 그 자체를 의미한다. \n",
    "- driver 객체에는 우리가 손으로 할 수 있는 작업(창 최대화, 최소화, 창 닫기 등)을 위한 메서드도 존재한다.\n",
    "- driver 객체에는 브라우저 창을 띄우지 않고 백그라운드에서 수행될 수 있도록 옵션도 가능하다.\n",
    "> options = webdriver.ChromeOptions() <br/>\n",
    "options.add_argument(\"headless\") <br/>\n",
    "driver = webdriver.Chrome(service=Service(ChromeDriverManager().install()), options=options)"
   ]
  },
  {
   "cell_type": "code",
   "execution_count": 89,
   "id": "c10e9dc2",
   "metadata": {},
   "outputs": [],
   "source": [
    "from selenium import webdriver\n",
    "from selenium.webdriver.chrome.service import Service\n",
    "from webdriver_manager.chrome import ChromeDriverManager\n",
    "from selenium.webdriver.common.by import By\n",
    "\n",
    "driver = webdriver.Chrome(service=Service(ChromeDriverManager().install()))\n",
    "url = 'https://m.map.naver.com/search2/search.naver'\n",
    "driver.get(url)"
   ]
  },
  {
   "cell_type": "markdown",
   "id": "bf13924b",
   "metadata": {},
   "source": [
    "## 검색어 입력하기\n",
    "### 검색창 element 찾기\n",
    "- 검색어를 입력하기 위해 검색 창이 어떤 element인지를 찾아야 한다. \n",
    "- 검색창 element를 찾아보자 "
   ]
  },
  {
   "cell_type": "code",
   "execution_count": 90,
   "id": "8cd40430",
   "metadata": {},
   "outputs": [
    {
     "name": "stdout",
     "output_type": "stream",
     "text": [
      "검색어 입력\n"
     ]
    }
   ],
   "source": [
    "\n",
    "element = driver.find_element(by=By.CSS_SELECTOR , value='.Nbox_input_text._keyword')\n",
    "print(element.get_attribute('title'))"
   ]
  },
  {
   "cell_type": "markdown",
   "id": "79cebb82",
   "metadata": {},
   "source": [
    "### 키워드 타이핑 및 엔터치기\n",
    "- 브라우저를 직접 확인해보면 검색창을 한번 누르면 화면이 바뀌는 것을 볼 수 있고<br>\n",
    "바뀐 화면에서 검색입력이 되는 것을 알 수 있다. \n",
    "- 이것을 코드로 그대로 재현해보자.\n"
   ]
  },
  {
   "cell_type": "code",
   "execution_count": 91,
   "id": "2e5113ac",
   "metadata": {},
   "outputs": [],
   "source": [
    "from selenium.webdriver.common.keys import Keys\n",
    "\n",
    "search_keywords = '강릉맛집'\n",
    "element.click()\n",
    "element = driver.find_element(by=By.CSS_SELECTOR , value='.Nbox_input_text._search_input')\n",
    "element.send_keys(search_keywords)         # 키워드 입력\n",
    "element.send_keys(Keys.ENTER)         # 키워드 입력\n",
    "\n",
    "# Keys 클래스에 어떤 값들이 있는지 확인해보자 \n"
   ]
  },
  {
   "cell_type": "markdown",
   "id": "f42138cb",
   "metadata": {},
   "source": [
    "## 마켓 마스터 파일 만들기 \n",
    "### 마켓 정보 크롤링하기 \n",
    "- 마켓별 리뷰 데이터 크롤링 전 마켓에 대한 마스터 파일을 만들어 보도록 하자.\n",
    "- 마켓 마스터 파일은 마켓 ID(data_id), 마켓 이름, 주소를 담을 예정이다.\n"
   ]
  },
  {
   "cell_type": "code",
   "execution_count": 60,
   "id": "fbaa184c",
   "metadata": {},
   "outputs": [
    {
     "name": "stdout",
     "output_type": "stream",
     "text": [
      "['강릉짬뽕순두부 동화가든 본점', '빅픽처6', '은파횟집']\n",
      "['11859878', '37203388', '11587704']\n",
      "['강원특별자치도 강릉시 초당순두부길77번길 15', '강원특별자치도 강릉시 주문진읍 해안로 1585', '강원특별자치도 강릉시 창해로350번길 29']\n"
     ]
    }
   ],
   "source": [
    "element_lst = driver.find_elements(by=By.CSS_SELECTOR, value='li._item._lazyImgContainer')\n",
    "\n",
    "market_name_lst = []\n",
    "data_id_lst = [] \n",
    "address_lst = []\n",
    "for element in element_lst:\n",
    "    market_name_lst.append(element.get_attribute('data-title'))\n",
    "    data_id_lst.append(element.get_attribute('data-id'))\n",
    "    address_element = element.find_element(by=By.CSS_SELECTOR, value='.item_address._btnAddress')\n",
    "    address_lst.append(address_element.text.replace('주소보기','').replace('\\n',''))\n",
    "    \n",
    "print(market_name_lst[:3])\n",
    "print(data_id_lst[:3])\n",
    "print(address_lst[:3])\n",
    "    \n",
    "\n"
   ]
  },
  {
   "cell_type": "markdown",
   "id": "4a9d68cf",
   "metadata": {},
   "source": [
    "### 마켓 마스터 파일 저장하기 \n"
   ]
  },
  {
   "cell_type": "code",
   "execution_count": 61,
   "id": "7fe08938",
   "metadata": {},
   "outputs": [
    {
     "name": "stdout",
     "output_type": "stream",
     "text": [
      "디렉토리 존재(C:\\Users\\kalwr\\PycharmProjects\\NaverCrawling\\crawled_files)\n"
     ]
    }
   ],
   "source": [
    "# 디렉토리 존재 확인\n",
    "import os\n",
    "\n",
    "PROJ_HOME = '\\\\'.join(os.getcwd().split('\\\\')[:-1])\n",
    "CRAWLED_DIR = PROJ_HOME + '\\\\crawled_files'\n",
    "if not os.path.exists(CRAWLED_DIR):\n",
    "    os.mkdir(CRAWLED_DIR)\n",
    "    print(f'디렉토리 생성 완료({CRAWLED_DIR})')\n",
    "else:\n",
    "    print(f'디렉토리 존재({CRAWLED_DIR})')"
   ]
  },
  {
   "cell_type": "code",
   "execution_count": 62,
   "id": "30ba946f",
   "metadata": {},
   "outputs": [
    {
     "name": "stdout",
     "output_type": "stream",
     "text": [
      "       data_id      market_name                        address\n",
      "0     11859878  강릉짬뽕순두부 동화가든 본점      강원특별자치도 강릉시 초당순두부길77번길 15\n",
      "1     37203388             빅픽처6      강원특별자치도 강릉시 주문진읍 해안로 1585\n",
      "2     11587704             은파횟집        강원특별자치도 강릉시 창해로350번길 29\n",
      "3    998885728           카페 툇마루    강원특별자치도 강릉시 난설헌로 232 카페 툇마루\n",
      "4   1167659600             초당버거  강원특별자치도 강릉시 초당순두부길77번길 20 지하층\n",
      "..         ...              ...                            ...\n",
      "70  1419683252           강릉역 옹막          강원특별자치도 강릉시 중기2길 9 1층\n",
      "71    15380605              해미가            강원특별자치도 강릉시 솔올로 103\n",
      "72  1025642664        팔도전복해물뚝배기  강원특별자치도 강릉시 창해로 375 강문동 234-2\n",
      "73  1615572971              샌마르    강원특별자치도 강릉시 문화의길 8 1층 샌마르피자\n",
      "74  1085613455             여포갈비        강원특별자치도 강릉시 하평길 64 여포갈비\n",
      "\n",
      "[75 rows x 3 columns]\n",
      "마켓 마스터 파일 저장 완료 (75건)\n"
     ]
    }
   ],
   "source": [
    "# 마켓 마스터 파일 저장\n",
    "import pandas as pd \n",
    "\n",
    "market_mst_pd = pd.DataFrame({'data_id':data_id_lst, 'market_name':market_name_lst, 'address':address_lst})\n",
    "print(market_mst_pd)\n",
    "market_mst_pd.to_csv(CRAWLED_DIR + '\\\\market_master.csv', index=False, header=True, encoding='utf-8')\n",
    "print(f'마켓 마스터 파일 저장 완료 ({market_mst_pd.shape[0]}건)')"
   ]
  },
  {
   "cell_type": "markdown",
   "id": "1b56815f",
   "metadata": {},
   "source": [
    "## 마켓별 리뷰 크롤링하기\n",
    "- 특정 마켓으로 이동하면 url 이 https://m.place.naver.com/restaurant/{data_id}/home 로 변경되는 것을 볼 수 있다. \n",
    "- 따라서 마켓 마스터 파일에서 data_id를 읽은 후 url 주소로 이동 -> 크롤링 순서로 코드를 작성해보자 "
   ]
  },
  {
   "cell_type": "markdown",
   "id": "57cbe20d",
   "metadata": {},
   "source": [
    "### 함수 만들기\n",
    "- data_id를 파라미터로 받아 리뷰 크롤링 후 csv로 저장하는 함수를 만들어보자.\n",
    "- 리뷰가 많은 경우 더보기 버튼이 있다. 이 버튼을 눌러 리뷰 개수가 많이 나오도록 하자 \n",
    "- 그런데 더보기 버튼을 끝까지 누르면 모든 리뷰데이터가 브라우저에 담기게 되어 성능 저하가 발생할 수 있다.\n",
    "> out of Memory 발생 가능\n",
    "- 따라서 리뷰 개수에 따라서 더보기 버튼을 조절하도록 하자"
   ]
  },
  {
   "cell_type": "code",
   "execution_count": 82,
   "id": "10de2ce4",
   "metadata": {},
   "outputs": [],
   "source": [
    "import time \n",
    "\n",
    "def get_review_n_save(data_id, market_name):\n",
    "    if os.path.exists(f'{CRAWLED_DIR}\\\\{data_id}.csv'):\n",
    "        print(f'{CRAWLED_DIR}\\\\{data_id}.csv 파일 존재, skip')\n",
    "        return\n",
    "    url = f'https://m.place.naver.com/restaurant/{data_id}/home'\n",
    "    driver.get(url)\n",
    "    a_tag_to_review_element = driver.find_element(by=By.CSS_SELECTOR, value='a.place_bluelink')\n",
    "    a_tag_to_review_element.click()\n",
    "    time.sleep(3)\n",
    "    \n",
    "    see_more_element = driver.find_element(by=By.CSS_SELECTOR, value='a.fvwqf')\n",
    "    while True:\n",
    "        li_review_element_lst = driver.find_elements(by=By.CSS_SELECTOR, value='li.YeINN')\n",
    "        if len(li_review_element_lst) >= 1000:\n",
    "            break\n",
    "        else:\n",
    "            time.sleep(1)\n",
    "            try:\n",
    "                see_more_element.click()\n",
    "            except Exception as e:\n",
    "                print(str(e))\n",
    "                print(f'{market_name}: 리뷰 데이터 {len(li_review_element_lst)}개, 더보기 Loop break')\n",
    "                break\n",
    "    print(f'{market_name}: 리뷰 데이터 {len(li_review_element_lst)}개 준비 완료')\n",
    "    \n",
    "    # 리뷰 추출하여 저장하기 \n",
    "    review_lst = [] \n",
    "    for li_review_element in li_review_element_lst:\n",
    "        try:\n",
    "            review_text = li_review_element.find_element(by=By.CSS_SELECTOR, value='span.zPfVt').text\n",
    "            review_lst.append(review_text)\n",
    "        except:\n",
    "            # 텍스트를 남기지 않고 사진만 올린 경우 class=zPfVt Element가 없음 \n",
    "            continue\n",
    "    review_df = pd.DataFrame({'review_text':review_lst})\n",
    "    review_df.to_csv(f'{CRAWLED_DIR}\\\\{data_id}.csv', index=False, header=True, encoding='utf-8')\n",
    "    print(f'{market_name}: 리뷰 데이터({len(review_lst)}건) 저장 완료({CRAWLED_DIR}\\\\{data_id}.csv)')\n"
   ]
  },
  {
   "cell_type": "markdown",
   "id": "284f6d61",
   "metadata": {},
   "source": [
    "### 마켓 마스터 파일에서 데이터프레임 불러오기"
   ]
  },
  {
   "cell_type": "code",
   "execution_count": 64,
   "id": "54c26eb2",
   "metadata": {},
   "outputs": [
    {
     "name": "stdout",
     "output_type": "stream",
     "text": [
      "       data_id      market_name                        address\n",
      "0     11859878  강릉짬뽕순두부 동화가든 본점      강원특별자치도 강릉시 초당순두부길77번길 15\n",
      "1     37203388             빅픽처6      강원특별자치도 강릉시 주문진읍 해안로 1585\n",
      "2     11587704             은파횟집        강원특별자치도 강릉시 창해로350번길 29\n",
      "3    998885728           카페 툇마루    강원특별자치도 강릉시 난설헌로 232 카페 툇마루\n",
      "4   1167659600             초당버거  강원특별자치도 강릉시 초당순두부길77번길 20 지하층\n",
      "..         ...              ...                            ...\n",
      "70  1419683252           강릉역 옹막          강원특별자치도 강릉시 중기2길 9 1층\n",
      "71    15380605              해미가            강원특별자치도 강릉시 솔올로 103\n",
      "72  1025642664        팔도전복해물뚝배기  강원특별자치도 강릉시 창해로 375 강문동 234-2\n",
      "73  1615572971              샌마르    강원특별자치도 강릉시 문화의길 8 1층 샌마르피자\n",
      "74  1085613455             여포갈비        강원특별자치도 강릉시 하평길 64 여포갈비\n",
      "\n",
      "[75 rows x 3 columns]\n"
     ]
    }
   ],
   "source": [
    "market_pd = pd.read_csv(CRAWLED_DIR + '\\\\market_master.csv')\n",
    "print(market_pd)\n"
   ]
  },
  {
   "cell_type": "markdown",
   "id": "eb537c64",
   "metadata": {},
   "source": [
    "### 마켓 리뷰 데이터 수집 시작 \n",
    "- 위에서 정의한 함수를 이용하여 크롤링 시작\n",
    "- 시작하기 전 화면이 잠기지 않도록 화면 끄기 설정 off 필요"
   ]
  },
  {
   "cell_type": "code",
   "execution_count": 92,
   "id": "7de29903",
   "metadata": {},
   "outputs": [
    {
     "name": "stdout",
     "output_type": "stream",
     "text": [
      "C:\\Users\\kalwr\\PycharmProjects\\NaverCrawling\\crawled_files\\11859878.csv 파일 존재, skip\n",
      "C:\\Users\\kalwr\\PycharmProjects\\NaverCrawling\\crawled_files\\37203388.csv 파일 존재, skip\n",
      "Message: stale element reference: stale element not found\n",
      "  (Session info: chrome=114.0.5735.199); For documentation on this error, please visit: https://www.selenium.dev/documentation/webdriver/troubleshooting/errors#stale-element-reference-exception\n",
      "Stacktrace:\n",
      "Backtrace:\n",
      "\tGetHandleVerifier [0x00F6A813+48355]\n",
      "\t(No symbol) [0x00EFC4B1]\n",
      "\t(No symbol) [0x00E05358]\n",
      "\t(No symbol) [0x00E087A1]\n",
      "\t(No symbol) [0x00E099E1]\n",
      "\t(No symbol) [0x00E09A80]\n",
      "\t(No symbol) [0x00E31D29]\n",
      "\t(No symbol) [0x00E29DAD]\n",
      "\t(No symbol) [0x00E4A73C]\n",
      "\t(No symbol) [0x00E29A36]\n",
      "\t(No symbol) [0x00E4AA94]\n",
      "\t(No symbol) [0x00E5C922]\n",
      "\t(No symbol) [0x00E4A536]\n",
      "\t(No symbol) [0x00E282DC]\n",
      "\t(No symbol) [0x00E293DD]\n",
      "\tGetHandleVerifier [0x011CAABD+2539405]\n",
      "\tGetHandleVerifier [0x0120A78F+2800735]\n",
      "\tGetHandleVerifier [0x0120456C+2775612]\n",
      "\tGetHandleVerifier [0x00FF51E0+616112]\n",
      "\t(No symbol) [0x00F05F8C]\n",
      "\t(No symbol) [0x00F02328]\n",
      "\t(No symbol) [0x00F0240B]\n",
      "\t(No symbol) [0x00EF4FF7]\n",
      "\tBaseThreadInitThunk [0x75F77D59+25]\n",
      "\tRtlInitializeExceptionChain [0x770BB74B+107]\n",
      "\tRtlClearBits [0x770BB6CF+191]\n",
      "\n",
      "은파횟집: 리뷰 데이터 320개, 더보기 Loop break\n",
      "은파횟집: 리뷰 데이터 320개 준비 완료\n",
      "은파횟집: 리뷰 데이터(305건) 저장 완료(C:\\Users\\kalwr\\PycharmProjects\\NaverCrawling\\crawled_files\\11587704.csv)\n",
      "카페 툇마루: 리뷰 데이터 1000개 준비 완료\n",
      "카페 툇마루: 리뷰 데이터(954건) 저장 완료(C:\\Users\\kalwr\\PycharmProjects\\NaverCrawling\\crawled_files\\998885728.csv)\n",
      "Message: stale element reference: stale element not found\n",
      "  (Session info: chrome=114.0.5735.199); For documentation on this error, please visit: https://www.selenium.dev/documentation/webdriver/troubleshooting/errors#stale-element-reference-exception\n",
      "Stacktrace:\n",
      "Backtrace:\n",
      "\tGetHandleVerifier [0x00F6A813+48355]\n",
      "\t(No symbol) [0x00EFC4B1]\n",
      "\t(No symbol) [0x00E05358]\n",
      "\t(No symbol) [0x00E087A1]\n",
      "\t(No symbol) [0x00E099E1]\n",
      "\t(No symbol) [0x00E09A80]\n",
      "\t(No symbol) [0x00E31D29]\n",
      "\t(No symbol) [0x00E29DAD]\n",
      "\t(No symbol) [0x00E4A73C]\n",
      "\t(No symbol) [0x00E29A36]\n",
      "\t(No symbol) [0x00E4AA94]\n",
      "\t(No symbol) [0x00E5C922]\n",
      "\t(No symbol) [0x00E4A536]\n",
      "\t(No symbol) [0x00E282DC]\n",
      "\t(No symbol) [0x00E293DD]\n",
      "\tGetHandleVerifier [0x011CAABD+2539405]\n",
      "\tGetHandleVerifier [0x0120A78F+2800735]\n",
      "\tGetHandleVerifier [0x0120456C+2775612]\n",
      "\tGetHandleVerifier [0x00FF51E0+616112]\n",
      "\t(No symbol) [0x00F05F8C]\n",
      "\t(No symbol) [0x00F02328]\n",
      "\t(No symbol) [0x00F0240B]\n",
      "\t(No symbol) [0x00EF4FF7]\n",
      "\tBaseThreadInitThunk [0x75F77D59+25]\n",
      "\tRtlInitializeExceptionChain [0x770BB74B+107]\n",
      "\tRtlClearBits [0x770BB6CF+191]\n",
      "\n",
      "초당버거: 리뷰 데이터 990개, 더보기 Loop break\n",
      "초당버거: 리뷰 데이터 990개 준비 완료\n",
      "초당버거: 리뷰 데이터(951건) 저장 완료(C:\\Users\\kalwr\\PycharmProjects\\NaverCrawling\\crawled_files\\1167659600.csv)\n",
      "Message: stale element reference: stale element not found\n",
      "  (Session info: chrome=114.0.5735.199); For documentation on this error, please visit: https://www.selenium.dev/documentation/webdriver/troubleshooting/errors#stale-element-reference-exception\n",
      "Stacktrace:\n",
      "Backtrace:\n",
      "\tGetHandleVerifier [0x00F6A813+48355]\n",
      "\t(No symbol) [0x00EFC4B1]\n",
      "\t(No symbol) [0x00E05358]\n",
      "\t(No symbol) [0x00E087A1]\n",
      "\t(No symbol) [0x00E099E1]\n",
      "\t(No symbol) [0x00E09A80]\n",
      "\t(No symbol) [0x00E31D29]\n",
      "\t(No symbol) [0x00E29DAD]\n",
      "\t(No symbol) [0x00E4A73C]\n",
      "\t(No symbol) [0x00E29A36]\n",
      "\t(No symbol) [0x00E4AA94]\n",
      "\t(No symbol) [0x00E5C922]\n",
      "\t(No symbol) [0x00E4A536]\n",
      "\t(No symbol) [0x00E282DC]\n",
      "\t(No symbol) [0x00E293DD]\n",
      "\tGetHandleVerifier [0x011CAABD+2539405]\n",
      "\tGetHandleVerifier [0x0120A78F+2800735]\n",
      "\tGetHandleVerifier [0x0120456C+2775612]\n",
      "\tGetHandleVerifier [0x00FF51E0+616112]\n",
      "\t(No symbol) [0x00F05F8C]\n",
      "\t(No symbol) [0x00F02328]\n",
      "\t(No symbol) [0x00F0240B]\n",
      "\t(No symbol) [0x00EF4FF7]\n",
      "\tBaseThreadInitThunk [0x75F77D59+25]\n",
      "\tRtlInitializeExceptionChain [0x770BB74B+107]\n",
      "\tRtlClearBits [0x770BB6CF+191]\n",
      "\n",
      "경포대 김군박군횟집: 리뷰 데이터 610개, 더보기 Loop break\n",
      "경포대 김군박군횟집: 리뷰 데이터 610개 준비 완료\n",
      "경포대 김군박군횟집: 리뷰 데이터(585건) 저장 완료(C:\\Users\\kalwr\\PycharmProjects\\NaverCrawling\\crawled_files\\1401189515.csv)\n",
      "만동제과: 리뷰 데이터 1000개 준비 완료\n",
      "만동제과: 리뷰 데이터(974건) 저장 완료(C:\\Users\\kalwr\\PycharmProjects\\NaverCrawling\\crawled_files\\1731735004.csv)\n",
      "Message: stale element reference: stale element not found\n",
      "  (Session info: chrome=114.0.5735.199); For documentation on this error, please visit: https://www.selenium.dev/documentation/webdriver/troubleshooting/errors#stale-element-reference-exception\n",
      "Stacktrace:\n",
      "Backtrace:\n",
      "\tGetHandleVerifier [0x00F6A813+48355]\n",
      "\t(No symbol) [0x00EFC4B1]\n",
      "\t(No symbol) [0x00E05358]\n",
      "\t(No symbol) [0x00E087A1]\n",
      "\t(No symbol) [0x00E099E1]\n",
      "\t(No symbol) [0x00E09A80]\n",
      "\t(No symbol) [0x00E31D29]\n",
      "\t(No symbol) [0x00E29DAD]\n",
      "\t(No symbol) [0x00E4A73C]\n",
      "\t(No symbol) [0x00E29A36]\n",
      "\t(No symbol) [0x00E4AA94]\n",
      "\t(No symbol) [0x00E5C922]\n",
      "\t(No symbol) [0x00E4A536]\n",
      "\t(No symbol) [0x00E282DC]\n",
      "\t(No symbol) [0x00E293DD]\n",
      "\tGetHandleVerifier [0x011CAABD+2539405]\n",
      "\tGetHandleVerifier [0x0120A78F+2800735]\n",
      "\tGetHandleVerifier [0x0120456C+2775612]\n",
      "\tGetHandleVerifier [0x00FF51E0+616112]\n",
      "\t(No symbol) [0x00F05F8C]\n",
      "\t(No symbol) [0x00F02328]\n",
      "\t(No symbol) [0x00F0240B]\n",
      "\t(No symbol) [0x00EF4FF7]\n",
      "\tBaseThreadInitThunk [0x75F77D59+25]\n",
      "\tRtlInitializeExceptionChain [0x770BB74B+107]\n",
      "\tRtlClearBits [0x770BB6CF+191]\n",
      "\n",
      "건도리횟집: 리뷰 데이터 640개, 더보기 Loop break\n",
      "건도리횟집: 리뷰 데이터 640개 준비 완료\n",
      "건도리횟집: 리뷰 데이터(616건) 저장 완료(C:\\Users\\kalwr\\PycharmProjects\\NaverCrawling\\crawled_files\\37765913.csv)\n",
      "Message: stale element reference: stale element not found\n",
      "  (Session info: chrome=114.0.5735.199); For documentation on this error, please visit: https://www.selenium.dev/documentation/webdriver/troubleshooting/errors#stale-element-reference-exception\n",
      "Stacktrace:\n",
      "Backtrace:\n",
      "\tGetHandleVerifier [0x00F6A813+48355]\n",
      "\t(No symbol) [0x00EFC4B1]\n",
      "\t(No symbol) [0x00E05358]\n",
      "\t(No symbol) [0x00E087A1]\n",
      "\t(No symbol) [0x00E099E1]\n",
      "\t(No symbol) [0x00E09A80]\n",
      "\t(No symbol) [0x00E31D29]\n",
      "\t(No symbol) [0x00E29DAD]\n",
      "\t(No symbol) [0x00E4A73C]\n",
      "\t(No symbol) [0x00E29A36]\n",
      "\t(No symbol) [0x00E4AA94]\n",
      "\t(No symbol) [0x00E5C922]\n",
      "\t(No symbol) [0x00E4A536]\n",
      "\t(No symbol) [0x00E282DC]\n",
      "\t(No symbol) [0x00E293DD]\n",
      "\tGetHandleVerifier [0x011CAABD+2539405]\n",
      "\tGetHandleVerifier [0x0120A78F+2800735]\n",
      "\tGetHandleVerifier [0x0120456C+2775612]\n",
      "\tGetHandleVerifier [0x00FF51E0+616112]\n",
      "\t(No symbol) [0x00F05F8C]\n",
      "\t(No symbol) [0x00F02328]\n",
      "\t(No symbol) [0x00F0240B]\n",
      "\t(No symbol) [0x00EF4FF7]\n",
      "\tBaseThreadInitThunk [0x75F77D59+25]\n",
      "\tRtlInitializeExceptionChain [0x770BB74B+107]\n",
      "\tRtlClearBits [0x770BB6CF+191]\n",
      "\n",
      "해연가: 리뷰 데이터 960개, 더보기 Loop break\n",
      "해연가: 리뷰 데이터 960개 준비 완료\n",
      "해연가: 리뷰 데이터(944건) 저장 완료(C:\\Users\\kalwr\\PycharmProjects\\NaverCrawling\\crawled_files\\1747803512.csv)\n"
     ]
    },
    {
     "ename": "KeyboardInterrupt",
     "evalue": "",
     "output_type": "error",
     "traceback": [
      "\u001b[1;31m---------------------------------------------------------------------------\u001b[0m",
      "\u001b[1;31mKeyboardInterrupt\u001b[0m                         Traceback (most recent call last)",
      "Cell \u001b[1;32mIn[92], line 4\u001b[0m\n\u001b[0;32m      2\u001b[0m data_id \u001b[38;5;241m=\u001b[39m row[\u001b[38;5;124m'\u001b[39m\u001b[38;5;124mdata_id\u001b[39m\u001b[38;5;124m'\u001b[39m]\n\u001b[0;32m      3\u001b[0m market_name \u001b[38;5;241m=\u001b[39m row[\u001b[38;5;124m'\u001b[39m\u001b[38;5;124mmarket_name\u001b[39m\u001b[38;5;124m'\u001b[39m]\n\u001b[1;32m----> 4\u001b[0m \u001b[43mget_review_n_save\u001b[49m\u001b[43m(\u001b[49m\u001b[43mdata_id\u001b[49m\u001b[43m,\u001b[49m\u001b[43m \u001b[49m\u001b[43mmarket_name\u001b[49m\u001b[43m)\u001b[49m\n",
      "Cell \u001b[1;32mIn[82], line 19\u001b[0m, in \u001b[0;36mget_review_n_save\u001b[1;34m(data_id, market_name)\u001b[0m\n\u001b[0;32m     17\u001b[0m     \u001b[38;5;28;01mbreak\u001b[39;00m\n\u001b[0;32m     18\u001b[0m \u001b[38;5;28;01melse\u001b[39;00m:\n\u001b[1;32m---> 19\u001b[0m     \u001b[43mtime\u001b[49m\u001b[38;5;241;43m.\u001b[39;49m\u001b[43msleep\u001b[49m\u001b[43m(\u001b[49m\u001b[38;5;241;43m1\u001b[39;49m\u001b[43m)\u001b[49m\n\u001b[0;32m     20\u001b[0m     \u001b[38;5;28;01mtry\u001b[39;00m:\n\u001b[0;32m     21\u001b[0m         see_more_element\u001b[38;5;241m.\u001b[39mclick()\n",
      "\u001b[1;31mKeyboardInterrupt\u001b[0m: "
     ]
    }
   ],
   "source": [
    "for idx, row in market_pd.iterrows():\n",
    "    data_id = row['data_id']\n",
    "    market_name = row['market_name']\n",
    "    get_review_n_save(data_id, market_name)\n"
   ]
  }
 ],
 "metadata": {
  "kernelspec": {
   "display_name": "Python 3 (ipykernel)",
   "language": "python",
   "name": "python3"
  },
  "language_info": {
   "codemirror_mode": {
    "name": "ipython",
    "version": 3
   },
   "file_extension": ".py",
   "mimetype": "text/x-python",
   "name": "python",
   "nbconvert_exporter": "python",
   "pygments_lexer": "ipython3",
   "version": "3.9.13"
  },
  "toc": {
   "base_numbering": 1,
   "nav_menu": {},
   "number_sections": true,
   "sideBar": true,
   "skip_h1_title": false,
   "title_cell": "Table of Contents",
   "title_sidebar": "Contents",
   "toc_cell": false,
   "toc_position": {},
   "toc_section_display": true,
   "toc_window_display": false
  }
 },
 "nbformat": 4,
 "nbformat_minor": 5
}
