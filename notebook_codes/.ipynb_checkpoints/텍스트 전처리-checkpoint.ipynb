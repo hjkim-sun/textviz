{
 "cells": [
  {
   "cell_type": "markdown",
   "id": "5f14d6a1",
   "metadata": {},
   "source": [
    "# Crawled CSV Import"
   ]
  },
  {
   "cell_type": "code",
   "execution_count": 3,
   "id": "404c196e",
   "metadata": {
    "scrolled": true
   },
   "outputs": [
    {
     "name": "stdout",
     "output_type": "stream",
     "text": [
      "      data_id                                        review_text  \\\n",
      "0    11587704  물회 회덮밥 맛집!!! 오후 5시쯤 도착해서 이른 저녁 먹었어요~ 회도 싱싱하고 야...   \n",
      "1    11587704  부모님  가족들과 다 같이 오고 싶은 곳이예요! 정말 만족스럽게 잘 먹었습니다:) ...   \n",
      "2    11587704  셋트이름은 생각안나지만 사진으로 표현해드려요 회나 해산물이 신선하고요 찜도 맛있어요...   \n",
      "3    11587704                         가자미 물회20000원 \\n모듬물회25000원.   \n",
      "4    11587704  회도 회지만 밑반찬이 너무 좋아요 특히 서비스로 나온 해물찜이 맛있어요ㅠㅠ 회도 싱...   \n",
      "..        ...                                                ...   \n",
      "304  11587704                                             맛있어요!!   \n",
      "305  11587704                                                 굳굳   \n",
      "306  11587704  주문한 회 이외에 다양한 밑반찬을 제공해서 맛있게 잘 먹고 왔습니다. 평일 낮에 방...   \n",
      "307  11587704                                       역시 물회는 이 곳이다   \n",
      "308  11587704                                               출장식사   \n",
      "\n",
      "               load_dttm  \n",
      "0    2023-06-27 20:30:16  \n",
      "1    2023-06-27 20:30:16  \n",
      "2    2023-06-27 20:30:16  \n",
      "3    2023-06-27 20:30:16  \n",
      "4    2023-06-27 20:30:16  \n",
      "..                   ...  \n",
      "304  2023-06-27 20:30:16  \n",
      "305  2023-06-27 20:30:16  \n",
      "306  2023-06-27 20:30:16  \n",
      "307  2023-06-27 20:30:16  \n",
      "308  2023-06-27 20:30:16  \n",
      "\n",
      "[309 rows x 3 columns]\n"
     ]
    }
   ],
   "source": [
    "import os \n",
    "import pandas as pd \n",
    "\n",
    "PROJ_HOME = '\\\\'.join(os.getcwd().split('\\\\')[:-1])\n",
    "CRAWLED_DIR = PROJ_HOME + '\\\\crawled_files'\n",
    "\n",
    "crawled_file_lst = os.listdir(CRAWLED_DIR)\n",
    "crawled_file_lst.del('market_master.csv')\n",
    "for idx, crawled_file in enumerate(crawled_file_lst):\n",
    "    market_df = pd.read_csv(f'{CRAWLED_DIR}\\\\{crawled_file}', encoding='utf-8')\n",
    "    break \n",
    "    \n",
    "    "
   ]
  },
  {
   "cell_type": "markdown",
   "id": "f5213b2a",
   "metadata": {},
   "source": [
    "# 형태소 분석 \n",
    "- 형태소 분석을 위해 주로 konlpy 라이브러리를 사용한다. \n",
    "- konlpy에서 문장을 형태소 단위로 나누는 작업을 태깅이라 하며 태깅을 처리하는 여러 "
   ]
  },
  {
   "cell_type": "code",
   "execution_count": 10,
   "id": "b31a431c",
   "metadata": {},
   "outputs": [
    {
     "data": {
      "text/plain": [
       "['신나는', '관광', '데이터', '기반', '의', '텍스트', '크롤', '링', '및', '시각', '화', '과정', '입니다']"
      ]
     },
     "execution_count": 10,
     "metadata": {},
     "output_type": "execute_result"
    }
   ],
   "source": [
    "from konlpy.tag import Okt \n",
    "okt = Okt()\n",
    "okt.morphs('신나는 관광데이터 기반의 텍스트크롤링 및 시각화 과정입니다')\n"
   ]
  },
  {
   "cell_type": "code",
   "execution_count": 6,
   "id": "8a729701",
   "metadata": {},
   "outputs": [
    {
     "data": {
      "text/plain": [
       "['신나는', '관광', '데이터', '기반', '의', '텍스트', '크롤', '링', '및', '시각', '화', '과정', '입니다']"
      ]
     },
     "execution_count": 6,
     "metadata": {},
     "output_type": "execute_result"
    }
   ],
   "source": [
    "\n"
   ]
  },
  {
   "cell_type": "code",
   "execution_count": 13,
   "id": "428031cf",
   "metadata": {},
   "outputs": [
    {
     "data": {
      "text/plain": [
       "['관광', '데이터', '기반', '텍스트', '롤링', '시각', '과정']"
      ]
     },
     "execution_count": 13,
     "metadata": {},
     "output_type": "execute_result"
    }
   ],
   "source": [
    "okt.nouns('신나는 관광데이터 기반 텍스트크롤링과 시각화 과정입니다')"
   ]
  }
 ],
 "metadata": {
  "kernelspec": {
   "display_name": "Python 3 (ipykernel)",
   "language": "python",
   "name": "python3"
  },
  "language_info": {
   "codemirror_mode": {
    "name": "ipython",
    "version": 3
   },
   "file_extension": ".py",
   "mimetype": "text/x-python",
   "name": "python",
   "nbconvert_exporter": "python",
   "pygments_lexer": "ipython3",
   "version": "3.9.13"
  },
  "toc": {
   "base_numbering": 1,
   "nav_menu": {},
   "number_sections": true,
   "sideBar": true,
   "skip_h1_title": false,
   "title_cell": "Table of Contents",
   "title_sidebar": "Contents",
   "toc_cell": false,
   "toc_position": {
    "height": "calc(100% - 180px)",
    "left": "10px",
    "top": "150px",
    "width": "232.8px"
   },
   "toc_section_display": true,
   "toc_window_display": true
  }
 },
 "nbformat": 4,
 "nbformat_minor": 5
}
