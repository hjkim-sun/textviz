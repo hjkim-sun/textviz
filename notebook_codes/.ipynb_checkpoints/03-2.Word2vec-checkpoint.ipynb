{
 "cells": [
  {
   "cell_type": "markdown",
   "id": "a52f5df5",
   "metadata": {},
   "source": [
    "# Tagging 된 CSV 가져오기\n",
    "- 공통 변수 선언"
   ]
  },
  {
   "cell_type": "code",
   "execution_count": 4,
   "id": "8f2c8658",
   "metadata": {},
   "outputs": [],
   "source": [
    "import os \n",
    "import pandas as pd\n",
    "\n",
    "PROJ_HOME = '\\\\'.join(os.getcwd().split('\\\\')[0:-1])\n",
    "MARK_LST_CSV = f'{PROJ_HOME}\\\\crawled_files\\\\market_master.csv'\n",
    "OKT_TAG_DIR = f'{PROJ_HOME}\\\\okt_tag_files'"
   ]
  },
  {
   "cell_type": "code",
   "execution_count": 11,
   "id": "bce82acc",
   "metadata": {},
   "outputs": [
    {
     "name": "stdout",
     "output_type": "stream",
     "text": [
      "[['진짜', '맛', '이', '써여', '여행', '마지막', '날', '출발', '전', '에', '먹은', '음식', '인데', '너무', '맛있게', '잘', '먹', '엇', '숨다', '펩시', '제로', '에', '카프리', '가', '있다니', '그릇', '도', '너무', '예', '쁘구', '너무', '맛', '잘알이신', '거', '같아서', '감동', '이', '였어여', '강릉', '여행', '에', '꼭', '추천'], ['강릉', '이랑', '동해', '쪽', '다니면서', '유명하다는', '햄버거', '집', '다', '먹어', '봤는데요', '여기', '가', '제일', '맛있습니다', '퀄리티', '가', '다르구요', '빵', '패티', '소스', '재료', '하나', '하나', '깨끗하고', '신선해요', '사장', '님', '의', '열정', '이', '느껴지구요', '서비스', '도', '좋으세요', '강릉', '오면', '무조건', '드시고', '가세', '요', '초당', '버거', '랑', '타', '노스', '먹었', '는데요', '초당', '은', '상큼', '한', '버거', '타', '노스', '는', '미국', '식', '미트볼', '소스', '같아요', '둘다', '특징', '이', '확실하고', '매력', '있습니다', '웨', '지', '감자', '도', '맛있', '너', '요', '갈릭'], ['강릉', '에서', '매번', '순두부', '장', '칼국수', '짬뽕', '만', '먹다가', '새로운', '음식', '도', '시도', '해보려고', '수제', '버거', '검색', '해봤는데', '여기', '가', '후기', '제일', '좋아서', '왔어요', '후기', '가', '괜히', '좋', '은', '게', '아니네요', '양도', '많고', '정말', '맛있어요', '특히', '패티', '장', '들어가있고', 'bbq', '소스', '들어가있는', '버거', '가', '기억', '에', '남습', '니당', '다음', '에', '강릉', '여행', '또', '오게되', '면', '여기', '재', '방문', '할', '것', '같아요'], ['진짜', '존맛', '고기', '살살', '녹아요', '웨', '지', '감자', '도', '맛있어요', '분위기', '도', '넘', '좋구', '강아지', '들', '도', '귀여워', '영', '다만', '모기', '를', '조심하십시오'], ['후기', '가', '좋아서', '근처', '여러', '군데', '찾아보다가', '갔는데', '너무', '맛있게', '잘', '먹었어용', '잠깐', '이지만', '사장', '님', '강아지', '들', '이랑', '놀면서', '힐링', '했어요', '혼자', '여행', '왔는데', '오늘이', '제일', '기억', '에', '남을거', '같네요', '담', '에', '또', '와서', '놀아야', '징'], ['주변', '에', '애견', '동반', '이', '없어서', '굶고', '있다가', '사막', '의', '오아시스', '같은', '곳', '이', '였어요', '넘', '모', '마싯게', '잘', '먹고', '갑니다', '애견', '은', '테라스', '자리', '에서만', '가능하지만', '덥지', '않은', '날', '이라', '괜찮았어요', '여름', '엔', '힘들것', '같은'], ['비싼만큼', '맛있음', '힙함', '친절함', '거의', '다', '먹고', '패티', '에서', '머리카락', '나옴'], ['제', '인생', '버거', '가', '강릉', '에', '있었네요', '초당', '버거', '라고', '해서', '두부', '로', '만든', '버거', '인가', '싶었죠', '아니었어요', '하지만', '맛있었어요', '메뉴', '이', '름', '도', '신', '박해', '요', '타', '노스', '버거', '레이디', '버거', '라니', '저', '는', '여자', '지만', '타', '노스', '버거', '먹었는데', '진짜', '우주', '뿌실것같', '은', '맛', '이었고', '일단', '강릉', '까지', '와서', '버거', '드세요', '넘', '맛', '나고', '분위기', '도', '미쳤', '습', '니당', '초당동', '에', '여기', '때문', '에', '젊은', '사람', '들', '줄', '서는거', '같더라구요', '패스트푸드', '정크푸드', '가', '아'], ['음식', '이', '조금', '늦게', '나오는', '편이', '지만', '맛있게', '잘', '먹었습니다', '가게', '분위기', '가', '정말', '좋아요']]\n"
     ]
    }
   ],
   "source": [
    "all_tag_review_lst = []\n",
    "for okt_tag_file in os.listdir(OKT_TAG_DIR):\n",
    "    file = f'{OKT_TAG_DIR}\\\\{okt_tag_file}'\n",
    "    review_df = pd.read_csv(file, encoding='utf-8')\n",
    "    review_df = review_df.dropna(axis=0)\n",
    "    for idx, row in review_df.iterrows():\n",
    "        tagged_text = row['tagged_text']\n",
    "        tagged_text_split_lst = tagged_text.split(' ')\n",
    "        all_tag_review_lst.append(tagged_text_split_lst)\n",
    "\n",
    "print(all_tag_review_lst[:9])"
   ]
  },
  {
   "cell_type": "markdown",
   "id": "396c17e3",
   "metadata": {},
   "source": [
    "## Word2vec 학습시키기 \n",
    "- 파라미터는 아래 참고 \n",
    "    * vector_size: 차원의 크기, 100차원 120차원, 200차원 등 \n",
    "    * window: 문장 내 중심 단어를 포함하여 인접할 단어의 개수 \n",
    "    * min_count: 단어의 최소 빈도수 제한 (이보다 작은 빈도의 단어는 미학습함)\n",
    "    * workers: 학습을 위한 프로세스 개수 \n",
    "    * sg: 0은 CBOW, 1은 SKIP-GRAM"
   ]
  },
  {
   "cell_type": "code",
   "execution_count": 13,
   "id": "e7bcaff0",
   "metadata": {},
   "outputs": [],
   "source": [
    "from gensim.models import Word2Vec\n",
    "\n",
    "model = Word2Vec(sentences=all_tag_review_lst , vector_size = 100 , window = 5, min_count=5 , workers = 4 , sg = 0)"
   ]
  },
  {
   "cell_type": "code",
   "execution_count": 20,
   "id": "e355ef82",
   "metadata": {},
   "outputs": [
    {
     "name": "stdout",
     "output_type": "stream",
     "text": [
      "[('순두부', 0.9493783712387085), ('불맛나', 0.938209593296051), ('초당', 0.9325621724128723), ('두부', 0.9180528521537781), ('랑', 0.9096004366874695), ('흑임자', 0.9023280739784241), ('물회', 0.9019061326980591), ('무침', 0.8994384407997131), ('는', 0.8984383940696716), ('크림', 0.8922094106674194)]\n"
     ]
    }
   ],
   "source": [
    "# 다른 값으로 바꿔가며 확인해보세요.\n",
    "similar_rslt = model.wv.most_similar(\"짬뽕\")\n",
    "print(similar_rslt)"
   ]
  },
  {
   "cell_type": "markdown",
   "id": "157182b6",
   "metadata": {},
   "source": [
    "## 모델 저장, 모델 로드"
   ]
  },
  {
   "cell_type": "code",
   "execution_count": null,
   "id": "1c38aaf6",
   "metadata": {},
   "outputs": [],
   "source": [
    "model.wv.save_word2vec_format('./myModel1') #모델저장\n"
   ]
  },
  {
   "cell_type": "code",
   "execution_count": null,
   "id": "879a42d3",
   "metadata": {},
   "outputs": [],
   "source": [
    "# 모델 로드\n",
    "# lmodel = KeyedVectors.load_word2vec_format('./eng_w2v') #모델로드"
   ]
  },
  {
   "cell_type": "markdown",
   "id": "8b21439f",
   "metadata": {},
   "source": [
    "## tsv 파일 생성"
   ]
  },
  {
   "cell_type": "code",
   "execution_count": 23,
   "id": "a2ecbdeb",
   "metadata": {},
   "outputs": [],
   "source": [
    "with open('tensors.tsv', 'w') as tensors:\n",
    "    with open('metadata.tsv', 'w') as metadata:\n",
    "        for word in model.wv.index_to_key :\n",
    "            metadata.write(word + '\\n')\n",
    "            vector_row = '\\t'.join(map(str, model.wv[word]))\n",
    "            tensors.write(vector_row + '\\n')"
   ]
  },
  {
   "cell_type": "code",
   "execution_count": 25,
   "id": "eb57e360",
   "metadata": {},
   "outputs": [
    {
     "ename": "NameError",
     "evalue": "name 'embeddings' is not defined",
     "output_type": "error",
     "traceback": [
      "\u001b[1;31m---------------------------------------------------------------------------\u001b[0m",
      "\u001b[1;31mNameError\u001b[0m                                 Traceback (most recent call last)",
      "Cell \u001b[1;32mIn[25], line 3\u001b[0m\n\u001b[0;32m      1\u001b[0m \u001b[38;5;28;01mimport\u001b[39;00m \u001b[38;5;21;01mnumpy\u001b[39;00m \u001b[38;5;28;01mas\u001b[39;00m \u001b[38;5;21;01mnp\u001b[39;00m \n\u001b[1;32m----> 3\u001b[0m embeddings_vectors \u001b[38;5;241m=\u001b[39m np\u001b[38;5;241m.\u001b[39mstack(\u001b[38;5;28mlist\u001b[39m(\u001b[43membeddings\u001b[49m\u001b[38;5;241m.\u001b[39mvalues(), axis\u001b[38;5;241m=\u001b[39m\u001b[38;5;241m0\u001b[39m))\n",
      "\u001b[1;31mNameError\u001b[0m: name 'embeddings' is not defined"
     ]
    }
   ],
   "source": [
    "import tensorflow as tf\n",
    "from tensorflow.contrib.tensorboard.plugins import projector\n",
    "TENSORBOARD_FILES_PATH = FOLDER_PATH+\"/tensorboard\"\n",
    "\n",
    "config = projector.ProjectorConfig()\n",
    "embed = config.embeddings.add()\n",
    "embed.metadata_path = tsv_file_path\n",
    "#Write a projector_config\n",
    "projector.visualize_embeddings(writer,config)\n",
    "#save a checkpoint\n",
    "saver.save(sess, TENSORBOARD_FILES_PATH+'/model.ckpt', global_step = VOCAB_SIZE)\n",
    "#close the session\n",
    "sess.close()"
   ]
  }
 ],
 "metadata": {
  "kernelspec": {
   "display_name": "Python 3 (ipykernel)",
   "language": "python",
   "name": "python3"
  },
  "language_info": {
   "codemirror_mode": {
    "name": "ipython",
    "version": 3
   },
   "file_extension": ".py",
   "mimetype": "text/x-python",
   "name": "python",
   "nbconvert_exporter": "python",
   "pygments_lexer": "ipython3",
   "version": "3.9.13"
  },
  "toc": {
   "base_numbering": 1,
   "nav_menu": {},
   "number_sections": true,
   "sideBar": true,
   "skip_h1_title": false,
   "title_cell": "Table of Contents",
   "title_sidebar": "Contents",
   "toc_cell": false,
   "toc_position": {},
   "toc_section_display": true,
   "toc_window_display": false
  }
 },
 "nbformat": 4,
 "nbformat_minor": 5
}
