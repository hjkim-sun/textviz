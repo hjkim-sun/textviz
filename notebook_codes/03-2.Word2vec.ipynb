{
 "cells": [
  {
   "attachments": {},
   "cell_type": "markdown",
   "id": "a52f5df5",
   "metadata": {},
   "source": [
    "# Word2Vec 학습\n",
    "## Tagging 된 CSV 가져오기\n",
    "- 공통 변수 선언"
   ]
  },
  {
   "cell_type": "code",
   "execution_count": 4,
   "id": "8f2c8658",
   "metadata": {},
   "outputs": [],
   "source": [
    "import os \n",
    "import pandas as pd\n",
    "\n",
    "PROJ_HOME = '\\\\'.join(os.getcwd().split('\\\\')[0:-1])\n",
    "MARK_LST_CSV = f'{PROJ_HOME}\\\\crawled_files\\\\market_master.csv'\n",
    "OKT_TAG_DIR = f'{PROJ_HOME}\\\\okt_tag_files'"
   ]
  },
  {
   "cell_type": "code",
   "execution_count": 1,
   "id": "790b54d7",
   "metadata": {},
   "outputs": [],
   "source": [
    "stop_words = ['이','날','전','에','인데','엇','가','도','거','이랑','랑','은','너','요','면','할','것','의','있습니다','는','식']"
   ]
  },
  {
   "cell_type": "code",
   "execution_count": 5,
   "id": "bce82acc",
   "metadata": {},
   "outputs": [
    {
     "name": "stdout",
     "output_type": "stream",
     "text": [
      "[['물회', '회덮밥', '맛집', '오후', '시', '쯤', '도착', '해서', '이른', '저녁', '먹었어요', '회도', '싱싱하고', '야채', '많아', '정말', '배부르게', '먹었네요', '함께', '나오는', '생선', '구이', '짱', '맛', '입니다'], ['부모님', '가족', '들', '과', '다', '같이', '오고', '싶은', '곳', '예요', '정말', '만족', '스럽게', '잘', '먹었습니다', '다음', '또', '올게', '용'], ['셋트이름', '생각', '안나', '지만', '사진', '으로', '표현', '해드려요', '회', '나', '해산물', '신선하고요', '찜', '맛있어요', '전체', '적', '으로', '음식', '맛있어요', '다만', '초밥', '밥', '건조해져서', '비추', '입니다', '층', '으로', '되어있어서', '넓고', '쾌적합니', '다', '이집', '추천', '해요']]\n"
     ]
    }
   ],
   "source": [
    "all_tag_review_lst = []\n",
    "for okt_tag_file in os.listdir(OKT_TAG_DIR):\n",
    "    file = f'{OKT_TAG_DIR}\\\\{okt_tag_file}'\n",
    "    review_df = pd.read_csv(file, encoding='utf-8')\n",
    "    review_df = review_df.dropna(axis=0)\n",
    "    for idx, row in review_df.iterrows():\n",
    "        tagged_text = row['tagged_text']\n",
    "        tagged_text_split_lst = tagged_text.split(' ')\n",
    "        tagged_text_split_lst = [word for word in tagged_text_split_lst if word not in stop_words] \n",
    "        all_tag_review_lst.append(tagged_text_split_lst)\n",
    "\n",
    "print(all_tag_review_lst[:3])"
   ]
  },
  {
   "attachments": {},
   "cell_type": "markdown",
   "id": "396c17e3",
   "metadata": {},
   "source": [
    "## Word2vec 학습시키기 \n",
    "- 파라미터는 아래 참고 \n",
    "    * vector_size: 차원의 크기, 100차원 120차원, 200차원 등 \n",
    "    * window: 문장 내 중심 단어를 포함하여 양 옆으로 인접할 단어의 개수 \n",
    "    * min_count: 단어의 최소 빈도수 제한 (이보다 작은 빈도의 단어는 미학습함)\n",
    "    * workers: 학습을 위한 프로세스 개수 \n",
    "    * sg: 0은 CBOW, 1은 SKIP-GRAM"
   ]
  },
  {
   "cell_type": "code",
   "execution_count": 6,
   "id": "e7bcaff0",
   "metadata": {},
   "outputs": [],
   "source": [
    "from gensim.models import Word2Vec\n",
    "\n",
    "model = Word2Vec(sentences=all_tag_review_lst , vector_size = 100 , window = 5, min_count=3 , workers = 4 , sg = 0)"
   ]
  },
  {
   "cell_type": "code",
   "execution_count": 30,
   "id": "e355ef82",
   "metadata": {},
   "outputs": [
    {
     "name": "stdout",
     "output_type": "stream",
     "text": [
      "[('붉은', 0.41380780935287476), ('b', 0.30172011256217957), ('a', 0.29738718271255493), ('순두부', 0.27546262741088867), ('물회', 0.23982565104961395), ('세트', 0.22132812440395355), ('회', 0.19141291081905365), ('편이었어요', 0.17840933799743652), ('간간', 0.17744366824626923), ('퀄', 0.15825864672660828)]\n"
     ]
    }
   ],
   "source": [
    "# 다른 값으로 바꿔가며 확인해보세요.\n",
    "similar_rslt = model.wv.most_similar(positive=['짬뽕'], negative=['커피'])          # positive와는 유사하지만 negative와는 먼\n",
    "print(similar_rslt)"
   ]
  },
  {
   "attachments": {},
   "cell_type": "markdown",
   "id": "157182b6",
   "metadata": {},
   "source": [
    "## 모델 저장, 모델 로드"
   ]
  },
  {
   "cell_type": "code",
   "execution_count": 14,
   "id": "1c38aaf6",
   "metadata": {},
   "outputs": [],
   "source": [
    "model.wv.save_word2vec_format('./myw2vModel') #모델저장\n"
   ]
  },
  {
   "cell_type": "code",
   "execution_count": 15,
   "id": "879a42d3",
   "metadata": {},
   "outputs": [
    {
     "data": {
      "text/plain": [
       "<gensim.models.keyedvectors.KeyedVectors at 0x20f62f74ac0>"
      ]
     },
     "execution_count": 15,
     "metadata": {},
     "output_type": "execute_result"
    }
   ],
   "source": [
    "# 모델 로드\n",
    "#model.wv.load_word2vec_format('./myw2vModel')\n"
   ]
  },
  {
   "attachments": {},
   "cell_type": "markdown",
   "id": "8b21439f",
   "metadata": {},
   "source": [
    "## tsv 파일 생성\n",
    "- projector.tensorflow.org 에 업로드용 tsv 파일 생성\n",
    "- 두 개의 tsv 파일을 모두 projector.tensorflow.org 에 업로드하여 결과 확인 "
   ]
  },
  {
   "cell_type": "code",
   "execution_count": 7,
   "id": "a2ecbdeb",
   "metadata": {},
   "outputs": [],
   "source": [
    "TSV_DIR = f'{PROJ_HOME}\\\\tsv_files'\n",
    "if not os.path.exists(TSV_DIR):\n",
    "    os.mkdir(TSV_DIR)\n",
    "    \n",
    "\n",
    "with open(TSV_DIR + '\\\\tensors.tsv', 'w', encoding='utf-8') as tensors:\n",
    "    with open(TSV_DIR + '\\\\metadata.tsv', 'w', encoding='utf-8') as metadata:\n",
    "        for word in model.wv.index_to_key :\n",
    "            metadata.write(word + '\\n')\n",
    "            vector_row = '\\t'.join(map(str, model.wv[word]))\n",
    "            tensors.write(vector_row + '\\n')"
   ]
  }
 ],
 "metadata": {
  "kernelspec": {
   "display_name": "Python 3 (ipykernel)",
   "language": "python",
   "name": "python3"
  },
  "language_info": {
   "codemirror_mode": {
    "name": "ipython",
    "version": 3
   },
   "file_extension": ".py",
   "mimetype": "text/x-python",
   "name": "python",
   "nbconvert_exporter": "python",
   "pygments_lexer": "ipython3",
   "version": "3.9.13"
  },
  "toc": {
   "base_numbering": 1,
   "nav_menu": {},
   "number_sections": true,
   "sideBar": true,
   "skip_h1_title": false,
   "title_cell": "Table of Contents",
   "title_sidebar": "Contents",
   "toc_cell": false,
   "toc_position": {},
   "toc_section_display": true,
   "toc_window_display": false
  }
 },
 "nbformat": 4,
 "nbformat_minor": 5
}
